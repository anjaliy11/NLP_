{
 "cells": [
  {
   "cell_type": "code",
   "execution_count": 1,
   "id": "fb63bdf8-d7dd-4049-b3c0-bf14a0ae34ed",
   "metadata": {},
   "outputs": [
    {
     "data": {
      "text/plain": [
       "{'thor': 12,\n",
       " 'hathodawala': 2,\n",
       " 'is': 5,\n",
       " 'looking': 9,\n",
       " 'for': 0,\n",
       " 'job': 8,\n",
       " 'thor hathodawala': 13,\n",
       " 'hathodawala is': 3,\n",
       " 'is looking': 6,\n",
       " 'looking for': 10,\n",
       " 'for job': 1,\n",
       " 'thor hathodawala is': 14,\n",
       " 'hathodawala is looking': 4,\n",
       " 'is looking for': 7,\n",
       " 'looking for job': 11}"
      ]
     },
     "execution_count": 1,
     "metadata": {},
     "output_type": "execute_result"
    }
   ],
   "source": [
    "from sklearn.feature_extraction.text import CountVectorizer\n",
    "\n",
    "v=CountVectorizer(ngram_range=(1,3))\n",
    "v.fit([\"Thor Hathodawala is looking for a job\"])\n",
    "v.vocabulary_"
   ]
  },
  {
   "cell_type": "code",
   "execution_count": 6,
   "id": "b2d08c12-f506-4d8a-b0cc-4cec746dbfc1",
   "metadata": {},
   "outputs": [],
   "source": [
    "corpus = [\n",
    "    \"Thor ate pizza\",\n",
    "    \"Loki is tall\",\n",
    "    \"Loki is eating pizza\"\n",
    "]"
   ]
  },
  {
   "cell_type": "code",
   "execution_count": 2,
   "id": "94806e61-7154-48c5-98c1-21adefa797d5",
   "metadata": {},
   "outputs": [],
   "source": [
    "import spacy\n",
    "\n",
    "# /load english lang model & create nip obj from it\n",
    "\n",
    "nlp = spacy.load(\"en_core_web_sm\")\n",
    "\n",
    "def preprocess(text):\n",
    "    doc = nlp(text)\n",
    "\n",
    "\n",
    "    filtered_tokens = []\n",
    "\n",
    "\n",
    "    for token in doc:\n",
    "        if token.is_stop or token.is_punct:\n",
    "            continue\n",
    "        filtered_tokens.append(token.lemma_)\n",
    "    \n",
    "    return \" \".join(filtered_tokens)  "
   ]
  },
  {
   "cell_type": "code",
   "execution_count": 3,
   "id": "82bf5982-1d11-4c35-b792-2a866102fba7",
   "metadata": {},
   "outputs": [
    {
     "data": {
      "text/plain": [
       "'thor eat pizza'"
      ]
     },
     "execution_count": 3,
     "metadata": {},
     "output_type": "execute_result"
    }
   ],
   "source": [
    "preprocess(\"Thor ate pizza\")"
   ]
  },
  {
   "cell_type": "code",
   "execution_count": 4,
   "id": "0a7f5abc-3b7f-46af-b65f-e65de3d4de18",
   "metadata": {},
   "outputs": [
    {
     "data": {
      "text/plain": [
       "'Loki eat pizza'"
      ]
     },
     "execution_count": 4,
     "metadata": {},
     "output_type": "execute_result"
    }
   ],
   "source": [
    "preprocess(\"Loki is eating pizza\")"
   ]
  },
  {
   "cell_type": "code",
   "execution_count": 7,
   "id": "c900c3c4-9104-412e-ac53-a33d680365ed",
   "metadata": {},
   "outputs": [
    {
     "data": {
      "text/plain": [
       "['thor eat pizza', 'Loki tall', 'Loki eat pizza']"
      ]
     },
     "execution_count": 7,
     "metadata": {},
     "output_type": "execute_result"
    }
   ],
   "source": [
    "corpus_processed = [\n",
    "    preprocess(text) for text in corpus\n",
    "]\n",
    "corpus_processed"
   ]
  },
  {
   "cell_type": "code",
   "execution_count": 8,
   "id": "e07cc9ef-e61d-455c-8807-364589df3159",
   "metadata": {},
   "outputs": [
    {
     "data": {
      "text/plain": [
       "{'thor': 7,\n",
       " 'eat': 0,\n",
       " 'pizza': 5,\n",
       " 'thor eat': 8,\n",
       " 'eat pizza': 1,\n",
       " 'loki': 2,\n",
       " 'tall': 6,\n",
       " 'loki tall': 4,\n",
       " 'loki eat': 3}"
      ]
     },
     "execution_count": 8,
     "metadata": {},
     "output_type": "execute_result"
    }
   ],
   "source": [
    "\n",
    "v = CountVectorizer(ngram_range=(1,2))\n",
    "v.fit(corpus_processed)\n",
    "v.vocabulary_"
   ]
  },
  {
   "cell_type": "markdown",
   "id": "12616532-a3e0-4dd5-83bf-16fe55d13eba",
   "metadata": {},
   "source": [
    "generate bag of n grams vector for few sample doc\n"
   ]
  },
  {
   "cell_type": "code",
   "execution_count": 10,
   "id": "c75095ac-5ad8-4007-b5f7-4a765d22b55e",
   "metadata": {},
   "outputs": [
    {
     "data": {
      "text/plain": [
       "array([[1, 1, 0, 0, 0, 1, 0, 1, 1]])"
      ]
     },
     "execution_count": 10,
     "metadata": {},
     "output_type": "execute_result"
    }
   ],
   "source": [
    "\n",
    "v.transform([\"Thor eat pizza\"]).toarray()"
   ]
  },
  {
   "cell_type": "markdown",
   "id": "7f6bb495-7d0a-490f-80fb-3e7427e1c8b6",
   "metadata": {},
   "source": [
    "\n",
    "Let's take a document that has out of vocabulary (OOV) term and see how bag of ngram generates vector out of it\n"
   ]
  },
  {
   "cell_type": "code",
   "execution_count": 11,
   "id": "6861df59-11c4-488a-bc57-07c77072a440",
   "metadata": {},
   "outputs": [
    {
     "data": {
      "text/plain": [
       "array([[1, 1, 0, 0, 0, 1, 0, 0, 0]])"
      ]
     },
     "execution_count": 11,
     "metadata": {},
     "output_type": "execute_result"
    }
   ],
   "source": [
    "\n",
    "v.transform([\"Hulk eat pizza\"]).toarray()"
   ]
  },
  {
   "cell_type": "markdown",
   "id": "6862fbef-b76b-4c56-b4d0-3c7e6b82b7bd",
   "metadata": {},
   "source": [
    "News Category Classification Problem"
   ]
  },
  {
   "cell_type": "code",
   "execution_count": 14,
   "id": "aaff2b76-34aa-46dc-aebf-dc25c5883a3f",
   "metadata": {},
   "outputs": [
    {
     "name": "stdout",
     "output_type": "stream",
     "text": [
      "(209527, 6)\n"
     ]
    },
    {
     "data": {
      "text/html": [
       "<div>\n",
       "<style scoped>\n",
       "    .dataframe tbody tr th:only-of-type {\n",
       "        vertical-align: middle;\n",
       "    }\n",
       "\n",
       "    .dataframe tbody tr th {\n",
       "        vertical-align: top;\n",
       "    }\n",
       "\n",
       "    .dataframe thead th {\n",
       "        text-align: right;\n",
       "    }\n",
       "</style>\n",
       "<table border=\"1\" class=\"dataframe\">\n",
       "  <thead>\n",
       "    <tr style=\"text-align: right;\">\n",
       "      <th></th>\n",
       "      <th>link</th>\n",
       "      <th>headline</th>\n",
       "      <th>category</th>\n",
       "      <th>short_description</th>\n",
       "      <th>authors</th>\n",
       "      <th>date</th>\n",
       "    </tr>\n",
       "  </thead>\n",
       "  <tbody>\n",
       "    <tr>\n",
       "      <th>0</th>\n",
       "      <td>https://www.huffpost.com/entry/covid-boosters-...</td>\n",
       "      <td>Over 4 Million Americans Roll Up Sleeves For O...</td>\n",
       "      <td>U.S. NEWS</td>\n",
       "      <td>Health experts said it is too early to predict...</td>\n",
       "      <td>Carla K. Johnson, AP</td>\n",
       "      <td>2022-09-23</td>\n",
       "    </tr>\n",
       "    <tr>\n",
       "      <th>1</th>\n",
       "      <td>https://www.huffpost.com/entry/american-airlin...</td>\n",
       "      <td>American Airlines Flyer Charged, Banned For Li...</td>\n",
       "      <td>U.S. NEWS</td>\n",
       "      <td>He was subdued by passengers and crew when he ...</td>\n",
       "      <td>Mary Papenfuss</td>\n",
       "      <td>2022-09-23</td>\n",
       "    </tr>\n",
       "    <tr>\n",
       "      <th>2</th>\n",
       "      <td>https://www.huffpost.com/entry/funniest-tweets...</td>\n",
       "      <td>23 Of The Funniest Tweets About Cats And Dogs ...</td>\n",
       "      <td>COMEDY</td>\n",
       "      <td>\"Until you have a dog you don't understand wha...</td>\n",
       "      <td>Elyse Wanshel</td>\n",
       "      <td>2022-09-23</td>\n",
       "    </tr>\n",
       "    <tr>\n",
       "      <th>3</th>\n",
       "      <td>https://www.huffpost.com/entry/funniest-parent...</td>\n",
       "      <td>The Funniest Tweets From Parents This Week (Se...</td>\n",
       "      <td>PARENTING</td>\n",
       "      <td>\"Accidentally put grown-up toothpaste on my to...</td>\n",
       "      <td>Caroline Bologna</td>\n",
       "      <td>2022-09-23</td>\n",
       "    </tr>\n",
       "    <tr>\n",
       "      <th>4</th>\n",
       "      <td>https://www.huffpost.com/entry/amy-cooper-lose...</td>\n",
       "      <td>Woman Who Called Cops On Black Bird-Watcher Lo...</td>\n",
       "      <td>U.S. NEWS</td>\n",
       "      <td>Amy Cooper accused investment firm Franklin Te...</td>\n",
       "      <td>Nina Golgowski</td>\n",
       "      <td>2022-09-22</td>\n",
       "    </tr>\n",
       "  </tbody>\n",
       "</table>\n",
       "</div>"
      ],
      "text/plain": [
       "                                                link  \\\n",
       "0  https://www.huffpost.com/entry/covid-boosters-...   \n",
       "1  https://www.huffpost.com/entry/american-airlin...   \n",
       "2  https://www.huffpost.com/entry/funniest-tweets...   \n",
       "3  https://www.huffpost.com/entry/funniest-parent...   \n",
       "4  https://www.huffpost.com/entry/amy-cooper-lose...   \n",
       "\n",
       "                                            headline   category  \\\n",
       "0  Over 4 Million Americans Roll Up Sleeves For O...  U.S. NEWS   \n",
       "1  American Airlines Flyer Charged, Banned For Li...  U.S. NEWS   \n",
       "2  23 Of The Funniest Tweets About Cats And Dogs ...     COMEDY   \n",
       "3  The Funniest Tweets From Parents This Week (Se...  PARENTING   \n",
       "4  Woman Who Called Cops On Black Bird-Watcher Lo...  U.S. NEWS   \n",
       "\n",
       "                                   short_description               authors  \\\n",
       "0  Health experts said it is too early to predict...  Carla K. Johnson, AP   \n",
       "1  He was subdued by passengers and crew when he ...        Mary Papenfuss   \n",
       "2  \"Until you have a dog you don't understand wha...         Elyse Wanshel   \n",
       "3  \"Accidentally put grown-up toothpaste on my to...      Caroline Bologna   \n",
       "4  Amy Cooper accused investment firm Franklin Te...        Nina Golgowski   \n",
       "\n",
       "        date  \n",
       "0 2022-09-23  \n",
       "1 2022-09-23  \n",
       "2 2022-09-23  \n",
       "3 2022-09-23  \n",
       "4 2022-09-22  "
      ]
     },
     "execution_count": 14,
     "metadata": {},
     "output_type": "execute_result"
    }
   ],
   "source": [
    "import pandas as pd\n",
    "\n",
    "df = pd.read_json('News_Category_Dataset_v3.json', lines=True)\n",
    "print(df.shape)\n",
    "\n",
    "df.head()"
   ]
  },
  {
   "cell_type": "code",
   "execution_count": 15,
   "id": "282240a5-c808-4d2a-aa41-d1bf77ad8798",
   "metadata": {},
   "outputs": [
    {
     "data": {
      "text/plain": [
       "category\n",
       "POLITICS          35602\n",
       "WELLNESS          17945\n",
       "ENTERTAINMENT     17362\n",
       "TRAVEL             9900\n",
       "STYLE & BEAUTY     9814\n",
       "PARENTING          8791\n",
       "HEALTHY LIVING     6694\n",
       "QUEER VOICES       6347\n",
       "FOOD & DRINK       6340\n",
       "BUSINESS           5992\n",
       "COMEDY             5400\n",
       "SPORTS             5077\n",
       "BLACK VOICES       4583\n",
       "HOME & LIVING      4320\n",
       "PARENTS            3955\n",
       "THE WORLDPOST      3664\n",
       "WEDDINGS           3653\n",
       "WOMEN              3572\n",
       "CRIME              3562\n",
       "IMPACT             3484\n",
       "DIVORCE            3426\n",
       "WORLD NEWS         3299\n",
       "MEDIA              2944\n",
       "WEIRD NEWS         2777\n",
       "GREEN              2622\n",
       "WORLDPOST          2579\n",
       "RELIGION           2577\n",
       "STYLE              2254\n",
       "SCIENCE            2206\n",
       "TECH               2104\n",
       "TASTE              2096\n",
       "MONEY              1756\n",
       "ARTS               1509\n",
       "ENVIRONMENT        1444\n",
       "FIFTY              1401\n",
       "GOOD NEWS          1398\n",
       "U.S. NEWS          1377\n",
       "ARTS & CULTURE     1339\n",
       "COLLEGE            1144\n",
       "LATINO VOICES      1130\n",
       "CULTURE & ARTS     1074\n",
       "EDUCATION          1014\n",
       "Name: count, dtype: int64"
      ]
     },
     "execution_count": 15,
     "metadata": {},
     "output_type": "execute_result"
    }
   ],
   "source": [
    "\n",
    "df.category.value_counts()"
   ]
  },
  {
   "cell_type": "markdown",
   "id": "0a908e5a-525b-4a63-bc61-699ba6ba6696",
   "metadata": {},
   "source": [
    "handling class imbalance using undersampling"
   ]
  },
  {
   "cell_type": "code",
   "execution_count": 16,
   "id": "c0229443-f483-40b6-ae75-ba1249e51bc3",
   "metadata": {},
   "outputs": [],
   "source": [
    "min_samples = 1381 # we have these many SCIENCE articles and SCIENCE is our minority class\n",
    "\n",
    "\n",
    "df_business = df[df.category==\"BUSINESS\"].sample(min_samples, random_state=2022)\n",
    "df_sports = df[df.category==\"SPORTS\"].sample(min_samples, random_state=2022)\n",
    "df_crime = df[df.category==\"CRIME\"].sample(min_samples, random_state=2022)\n",
    "df_science = df[df.category==\"SCIENCE\"].sample(min_samples, random_state=2022)"
   ]
  },
  {
   "cell_type": "code",
   "execution_count": 17,
   "id": "d7f07f92-e570-4218-8530-0d8c7f34843a",
   "metadata": {},
   "outputs": [
    {
     "data": {
      "text/plain": [
       "category\n",
       "BUSINESS    1381\n",
       "SPORTS      1381\n",
       "CRIME       1381\n",
       "SCIENCE     1381\n",
       "Name: count, dtype: int64"
      ]
     },
     "execution_count": 17,
     "metadata": {},
     "output_type": "execute_result"
    }
   ],
   "source": [
    "\n",
    "df_balanced = pd.concat([df_business,df_sports,df_crime,df_science],axis=0)\n",
    "df_balanced.category.value_counts()"
   ]
  },
  {
   "cell_type": "code",
   "execution_count": 18,
   "id": "75233767-98ec-432f-9b5f-26d621ae171a",
   "metadata": {},
   "outputs": [],
   "source": [
    "target = {'BUSINESS': 0, 'SPORTS': 1, 'CRIME': 2, 'SCIENCE': 3}\n",
    "\n",
    "df_balanced['category_num'] = df_balanced['category'].map({\n",
    "    'BUSINESS': 0,\n",
    "    'SPORTS': 1, \n",
    "    'CRIME': 2, \n",
    "    'SCIENCE': 3\n",
    "})\n",
    "# converting text category to a number"
   ]
  },
  {
   "cell_type": "code",
   "execution_count": 19,
   "id": "6aa1929b-702a-4118-a7ee-ebfade3b80ff",
   "metadata": {},
   "outputs": [
    {
     "data": {
      "text/html": [
       "<div>\n",
       "<style scoped>\n",
       "    .dataframe tbody tr th:only-of-type {\n",
       "        vertical-align: middle;\n",
       "    }\n",
       "\n",
       "    .dataframe tbody tr th {\n",
       "        vertical-align: top;\n",
       "    }\n",
       "\n",
       "    .dataframe thead th {\n",
       "        text-align: right;\n",
       "    }\n",
       "</style>\n",
       "<table border=\"1\" class=\"dataframe\">\n",
       "  <thead>\n",
       "    <tr style=\"text-align: right;\">\n",
       "      <th></th>\n",
       "      <th>link</th>\n",
       "      <th>headline</th>\n",
       "      <th>category</th>\n",
       "      <th>short_description</th>\n",
       "      <th>authors</th>\n",
       "      <th>date</th>\n",
       "      <th>category_num</th>\n",
       "    </tr>\n",
       "  </thead>\n",
       "  <tbody>\n",
       "    <tr>\n",
       "      <th>181516</th>\n",
       "      <td>https://www.huffingtonpost.com/entry/entrepren...</td>\n",
       "      <td>Entrepreneurism: Lots of Little Traumas and No...</td>\n",
       "      <td>BUSINESS</td>\n",
       "      <td>I loved my years in corporate America, which I...</td>\n",
       "      <td>Liz Ryan, Contributor\\nSpeaker, writer, sopran...</td>\n",
       "      <td>2012-11-25</td>\n",
       "      <td>0</td>\n",
       "    </tr>\n",
       "    <tr>\n",
       "      <th>58552</th>\n",
       "      <td>https://www.huffingtonpost.com/entry/tesla-fas...</td>\n",
       "      <td>Tesla Just Unveiled The Quickest Car You Can A...</td>\n",
       "      <td>BUSINESS</td>\n",
       "      <td>A new battery upgrade extends the range of the...</td>\n",
       "      <td>Alexandria Sage, Reuters</td>\n",
       "      <td>2016-08-23</td>\n",
       "      <td>0</td>\n",
       "    </tr>\n",
       "    <tr>\n",
       "      <th>155102</th>\n",
       "      <td>https://www.huffingtonpost.com/entry/workers-p...</td>\n",
       "      <td>90 Percent Of Employers Tie Workers' Pay To Co...</td>\n",
       "      <td>BUSINESS</td>\n",
       "      <td>Caterpillar will not break any profit records ...</td>\n",
       "      <td>Reuters, Reuters</td>\n",
       "      <td>2013-09-01</td>\n",
       "      <td>0</td>\n",
       "    </tr>\n",
       "    <tr>\n",
       "      <th>71725</th>\n",
       "      <td>https://www.huffingtonpost.com/entry/us-tax-ha...</td>\n",
       "      <td>One Of Ben Carson's Craziest Ideas Is Coming True</td>\n",
       "      <td>BUSINESS</td>\n",
       "      <td>The U.S. is the world's hottest new tax haven.</td>\n",
       "      <td>Ben Walsh</td>\n",
       "      <td>2016-03-26</td>\n",
       "      <td>0</td>\n",
       "    </tr>\n",
       "    <tr>\n",
       "      <th>80455</th>\n",
       "      <td>https://www.huffingtonpost.comhttp://www.bloom...</td>\n",
       "      <td>CEO Who Price Gouged HIV Drug Arrested For Sec...</td>\n",
       "      <td>BUSINESS</td>\n",
       "      <td>A boyish drug company entrepreneur, who rocket...</td>\n",
       "      <td></td>\n",
       "      <td>2015-12-17</td>\n",
       "      <td>0</td>\n",
       "    </tr>\n",
       "  </tbody>\n",
       "</table>\n",
       "</div>"
      ],
      "text/plain": [
       "                                                     link  \\\n",
       "181516  https://www.huffingtonpost.com/entry/entrepren...   \n",
       "58552   https://www.huffingtonpost.com/entry/tesla-fas...   \n",
       "155102  https://www.huffingtonpost.com/entry/workers-p...   \n",
       "71725   https://www.huffingtonpost.com/entry/us-tax-ha...   \n",
       "80455   https://www.huffingtonpost.comhttp://www.bloom...   \n",
       "\n",
       "                                                 headline  category  \\\n",
       "181516  Entrepreneurism: Lots of Little Traumas and No...  BUSINESS   \n",
       "58552   Tesla Just Unveiled The Quickest Car You Can A...  BUSINESS   \n",
       "155102  90 Percent Of Employers Tie Workers' Pay To Co...  BUSINESS   \n",
       "71725   One Of Ben Carson's Craziest Ideas Is Coming True  BUSINESS   \n",
       "80455   CEO Who Price Gouged HIV Drug Arrested For Sec...  BUSINESS   \n",
       "\n",
       "                                        short_description  \\\n",
       "181516  I loved my years in corporate America, which I...   \n",
       "58552   A new battery upgrade extends the range of the...   \n",
       "155102  Caterpillar will not break any profit records ...   \n",
       "71725      The U.S. is the world's hottest new tax haven.   \n",
       "80455   A boyish drug company entrepreneur, who rocket...   \n",
       "\n",
       "                                                  authors       date  \\\n",
       "181516  Liz Ryan, Contributor\\nSpeaker, writer, sopran... 2012-11-25   \n",
       "58552                            Alexandria Sage, Reuters 2016-08-23   \n",
       "155102                                   Reuters, Reuters 2013-09-01   \n",
       "71725                                           Ben Walsh 2016-03-26   \n",
       "80455                                                     2015-12-17   \n",
       "\n",
       "        category_num  \n",
       "181516             0  \n",
       "58552              0  \n",
       "155102             0  \n",
       "71725              0  \n",
       "80455              0  "
      ]
     },
     "execution_count": 19,
     "metadata": {},
     "output_type": "execute_result"
    }
   ],
   "source": [
    "\n",
    "df_balanced.head()"
   ]
  },
  {
   "cell_type": "markdown",
   "id": "a306e8d4-32dd-41b9-9131-12fd861e1f0c",
   "metadata": {},
   "source": [
    "Build a model with original text(no pre processing)"
   ]
  },
  {
   "cell_type": "code",
   "execution_count": 21,
   "id": "8394fa69-605c-46a0-95b4-f397366a2f58",
   "metadata": {},
   "outputs": [],
   "source": [
    "\n",
    "from sklearn.model_selection import train_test_split\n",
    "\n",
    "X_train, X_test, y_train, y_test = train_test_split(\n",
    "    df_balanced.headline, \n",
    "    df_balanced.category_num, \n",
    "    test_size=0.2, # 20% samples will go to test dataset\n",
    "    random_state=2022,\n",
    "    stratify=df_balanced.category_num\n",
    ")"
   ]
  },
  {
   "cell_type": "code",
   "execution_count": 22,
   "id": "0ef551f9-1308-4509-b404-cc77ee45916d",
   "metadata": {},
   "outputs": [
    {
     "name": "stdout",
     "output_type": "stream",
     "text": [
      "(4419,)\n"
     ]
    },
    {
     "data": {
      "text/plain": [
       "196434    Space Plane: X-37B Video Shows Air Force Craft...\n",
       "178136    Cave-Dwelling Plants: Strange Subterranean Net...\n",
       "102479    Hockey Goalie Commits Humiliating Gaffe In Nat...\n",
       "37965     Wisconsin Man Accused Of Sending Manifesto To ...\n",
       "191964    Derek McGlone, Teacher, Tries To Get Out Of Wo...\n",
       "Name: headline, dtype: object"
      ]
     },
     "execution_count": 22,
     "metadata": {},
     "output_type": "execute_result"
    }
   ],
   "source": [
    "\n",
    "print(X_train.shape)\n",
    "X_train.head()"
   ]
  },
  {
   "cell_type": "code",
   "execution_count": 23,
   "id": "882c9953-5aee-4ade-8afd-c167c9329927",
   "metadata": {},
   "outputs": [
    {
     "data": {
      "text/plain": [
       "category_num\n",
       "3    1105\n",
       "2    1105\n",
       "0    1105\n",
       "1    1104\n",
       "Name: count, dtype: int64"
      ]
     },
     "execution_count": 23,
     "metadata": {},
     "output_type": "execute_result"
    }
   ],
   "source": [
    "\n",
    "y_train.value_counts()"
   ]
  },
  {
   "cell_type": "code",
   "execution_count": 24,
   "id": "14d2e614-77e3-41b5-b1ae-eead3f0935e5",
   "metadata": {},
   "outputs": [
    {
     "data": {
      "text/plain": [
       "category_num\n",
       "1    277\n",
       "0    276\n",
       "3    276\n",
       "2    276\n",
       "Name: count, dtype: int64"
      ]
     },
     "execution_count": 24,
     "metadata": {},
     "output_type": "execute_result"
    }
   ],
   "source": [
    "\n",
    "y_test.value_counts()"
   ]
  },
  {
   "cell_type": "markdown",
   "id": "2f0751bc-05d8-41a3-831a-03527575fa7b",
   "metadata": {},
   "source": [
    "Use 1-gram which is nothing but a Bag Of Words (BOW) model"
   ]
  },
  {
   "cell_type": "code",
   "execution_count": 25,
   "id": "43c2bd1a-b71b-4a48-8d3b-59ca90dd380c",
   "metadata": {},
   "outputs": [
    {
     "name": "stdout",
     "output_type": "stream",
     "text": [
      "              precision    recall  f1-score   support\n",
      "\n",
      "           0       0.76      0.83      0.79       276\n",
      "           1       0.86      0.78      0.82       277\n",
      "           2       0.84      0.89      0.87       276\n",
      "           3       0.84      0.79      0.82       276\n",
      "\n",
      "    accuracy                           0.82      1105\n",
      "   macro avg       0.83      0.82      0.82      1105\n",
      "weighted avg       0.83      0.82      0.82      1105\n",
      "\n"
     ]
    }
   ],
   "source": [
    "from sklearn.naive_bayes import MultinomialNB\n",
    "from sklearn.pipeline import Pipeline\n",
    "from sklearn.metrics import classification_report\n",
    "\n",
    "#1. create a pipeline object\n",
    "clf = Pipeline([\n",
    "     ('vectorizer_bow', CountVectorizer(ngram_range = (1, 1))),        #using the ngram_range parameter \n",
    "     ('Multi NB', MultinomialNB())         \n",
    "])\n",
    "\n",
    "#2. fit with X_train and y_train\n",
    "clf.fit(X_train, y_train)\n",
    "\n",
    "\n",
    "#3. get the predictions for X_test and store it in y_pred\n",
    "y_pred = clf.predict(X_test)\n",
    "\n",
    "\n",
    "#4. print the classfication report\n",
    "print(classification_report(y_test, y_pred))"
   ]
  },
  {
   "cell_type": "code",
   "execution_count": 26,
   "id": "0ef30c1a-8033-4df2-98a5-363cca67b0f3",
   "metadata": {},
   "outputs": [
    {
     "data": {
      "text/plain": [
       "79832     Lender Discrimination May Be Pushing Black Chu...\n",
       "106908    Mars One Candidate Thinks She Has What It Take...\n",
       "166971               DNA: What Have You Done for Me Lately?\n",
       "140653                    Choose to Find Her and Mentor Her\n",
       "111157    Death Of Mentally Ill Woman In Police Custody ...\n",
       "Name: headline, dtype: object"
      ]
     },
     "execution_count": 26,
     "metadata": {},
     "output_type": "execute_result"
    }
   ],
   "source": [
    "\n",
    "X_test[:5]"
   ]
  },
  {
   "cell_type": "code",
   "execution_count": 27,
   "id": "613a632a-405f-4c07-a923-db9e7f82b141",
   "metadata": {},
   "outputs": [
    {
     "data": {
      "text/plain": [
       "array([0, 3, 3, 2, 2])"
      ]
     },
     "execution_count": 27,
     "metadata": {},
     "output_type": "execute_result"
    }
   ],
   "source": [
    "\n",
    "y_pred[:5]"
   ]
  },
  {
   "cell_type": "code",
   "execution_count": 28,
   "id": "bdd060d2-b57c-4294-b1c5-308cf2f1a731",
   "metadata": {},
   "outputs": [
    {
     "data": {
      "text/plain": [
       "79832     0\n",
       "106908    3\n",
       "166971    3\n",
       "140653    0\n",
       "111157    2\n",
       "Name: category_num, dtype: int64"
      ]
     },
     "execution_count": 28,
     "metadata": {},
     "output_type": "execute_result"
    }
   ],
   "source": [
    "y_test[:5]"
   ]
  },
  {
   "cell_type": "markdown",
   "id": "748a5791-7490-40eb-ad0d-d69b348ec84c",
   "metadata": {},
   "source": [
    "\n",
    "Attempt 2 : Use 1-gram and bigrams"
   ]
  },
  {
   "cell_type": "code",
   "execution_count": 29,
   "id": "af00f3f3-2903-4201-89f2-2ed44d76c83b",
   "metadata": {},
   "outputs": [
    {
     "name": "stdout",
     "output_type": "stream",
     "text": [
      "              precision    recall  f1-score   support\n",
      "\n",
      "           0       0.77      0.81      0.79       276\n",
      "           1       0.85      0.79      0.82       277\n",
      "           2       0.84      0.88      0.86       276\n",
      "           3       0.85      0.82      0.83       276\n",
      "\n",
      "    accuracy                           0.83      1105\n",
      "   macro avg       0.83      0.83      0.83      1105\n",
      "weighted avg       0.83      0.83      0.83      1105\n",
      "\n"
     ]
    }
   ],
   "source": [
    "#1. create a pipeline object\n",
    "clf = Pipeline([\n",
    "    ('vectorizer_1_2_gram', CountVectorizer(ngram_range = (1, 2))),        #using the ngram_range parameter \n",
    "     ('Multi NB', MultinomialNB())         \n",
    "])\n",
    "\n",
    "#2. fit with X_train and y_train\n",
    "clf.fit(X_train, y_train)\n",
    "\n",
    "\n",
    "#3. get the predictions for X_test and store it in y_pred\n",
    "y_pred = clf.predict(X_test)\n",
    "\n",
    "\n",
    "#4. print the classfication report\n",
    "print(classification_report(y_test, y_pred))"
   ]
  },
  {
   "cell_type": "markdown",
   "id": "d82420ae-3465-42ea-9fbf-430fc8801da2",
   "metadata": {},
   "source": [
    "\n",
    "Attempt 3 : Use 1-gram to trigrams"
   ]
  },
  {
   "cell_type": "code",
   "execution_count": 30,
   "id": "28e5957c-c4ab-4b53-a25c-2d6344b7fe47",
   "metadata": {},
   "outputs": [
    {
     "name": "stdout",
     "output_type": "stream",
     "text": [
      "              precision    recall  f1-score   support\n",
      "\n",
      "           0       0.76      0.81      0.78       276\n",
      "           1       0.85      0.79      0.82       277\n",
      "           2       0.85      0.88      0.86       276\n",
      "           3       0.84      0.81      0.83       276\n",
      "\n",
      "    accuracy                           0.82      1105\n",
      "   macro avg       0.82      0.82      0.82      1105\n",
      "weighted avg       0.82      0.82      0.82      1105\n",
      "\n"
     ]
    }
   ],
   "source": [
    "#1. create a pipeline object\n",
    "clf = Pipeline([\n",
    "    ('vectorizer_1_3_grams', CountVectorizer(ngram_range = (1, 3))),        #using the ngram_range parameter \n",
    "     ('Multi NB', MultinomialNB())         \n",
    "])\n",
    "\n",
    "#2. fit with X_train and y_train\n",
    "clf.fit(X_train, y_train)\n",
    "\n",
    "\n",
    "#3. get the predictions for X_test and store it in y_pred\n",
    "y_pred = clf.predict(X_test)\n",
    "\n",
    "\n",
    "#4. print the classfication report\n",
    "print(classification_report(y_test, y_pred))"
   ]
  },
  {
   "cell_type": "code",
   "execution_count": 33,
   "id": "9f54f25b-7726-438e-a3ca-77aa64942492",
   "metadata": {},
   "outputs": [],
   "source": [
    "\n",
    "df_balanced['preprocessed_txt'] = df_balanced['headline'].apply(preprocess) "
   ]
  },
  {
   "cell_type": "code",
   "execution_count": 34,
   "id": "5b2d7deb-d12e-4303-a275-3de0f91bb341",
   "metadata": {},
   "outputs": [
    {
     "data": {
      "text/html": [
       "<div>\n",
       "<style scoped>\n",
       "    .dataframe tbody tr th:only-of-type {\n",
       "        vertical-align: middle;\n",
       "    }\n",
       "\n",
       "    .dataframe tbody tr th {\n",
       "        vertical-align: top;\n",
       "    }\n",
       "\n",
       "    .dataframe thead th {\n",
       "        text-align: right;\n",
       "    }\n",
       "</style>\n",
       "<table border=\"1\" class=\"dataframe\">\n",
       "  <thead>\n",
       "    <tr style=\"text-align: right;\">\n",
       "      <th></th>\n",
       "      <th>link</th>\n",
       "      <th>headline</th>\n",
       "      <th>category</th>\n",
       "      <th>short_description</th>\n",
       "      <th>authors</th>\n",
       "      <th>date</th>\n",
       "      <th>category_num</th>\n",
       "      <th>preprocessed_txt</th>\n",
       "    </tr>\n",
       "  </thead>\n",
       "  <tbody>\n",
       "    <tr>\n",
       "      <th>181516</th>\n",
       "      <td>https://www.huffingtonpost.com/entry/entrepren...</td>\n",
       "      <td>Entrepreneurism: Lots of Little Traumas and No...</td>\n",
       "      <td>BUSINESS</td>\n",
       "      <td>I loved my years in corporate America, which I...</td>\n",
       "      <td>Liz Ryan, Contributor\\nSpeaker, writer, sopran...</td>\n",
       "      <td>2012-11-25</td>\n",
       "      <td>0</td>\n",
       "      <td>entrepreneurism lot Little Traumas Big Ones</td>\n",
       "    </tr>\n",
       "    <tr>\n",
       "      <th>58552</th>\n",
       "      <td>https://www.huffingtonpost.com/entry/tesla-fas...</td>\n",
       "      <td>Tesla Just Unveiled The Quickest Car You Can A...</td>\n",
       "      <td>BUSINESS</td>\n",
       "      <td>A new battery upgrade extends the range of the...</td>\n",
       "      <td>Alexandria Sage, Reuters</td>\n",
       "      <td>2016-08-23</td>\n",
       "      <td>0</td>\n",
       "      <td>Tesla unveil Quickest Car actually buy</td>\n",
       "    </tr>\n",
       "    <tr>\n",
       "      <th>155102</th>\n",
       "      <td>https://www.huffingtonpost.com/entry/workers-p...</td>\n",
       "      <td>90 Percent Of Employers Tie Workers' Pay To Co...</td>\n",
       "      <td>BUSINESS</td>\n",
       "      <td>Caterpillar will not break any profit records ...</td>\n",
       "      <td>Reuters, Reuters</td>\n",
       "      <td>2013-09-01</td>\n",
       "      <td>0</td>\n",
       "      <td>90 percent Employers tie Workers pay company p...</td>\n",
       "    </tr>\n",
       "    <tr>\n",
       "      <th>71725</th>\n",
       "      <td>https://www.huffingtonpost.com/entry/us-tax-ha...</td>\n",
       "      <td>One Of Ben Carson's Craziest Ideas Is Coming True</td>\n",
       "      <td>BUSINESS</td>\n",
       "      <td>The U.S. is the world's hottest new tax haven.</td>\n",
       "      <td>Ben Walsh</td>\n",
       "      <td>2016-03-26</td>\n",
       "      <td>0</td>\n",
       "      <td>Ben Carson Craziest Ideas come true</td>\n",
       "    </tr>\n",
       "    <tr>\n",
       "      <th>80455</th>\n",
       "      <td>https://www.huffingtonpost.comhttp://www.bloom...</td>\n",
       "      <td>CEO Who Price Gouged HIV Drug Arrested For Sec...</td>\n",
       "      <td>BUSINESS</td>\n",
       "      <td>A boyish drug company entrepreneur, who rocket...</td>\n",
       "      <td></td>\n",
       "      <td>2015-12-17</td>\n",
       "      <td>0</td>\n",
       "      <td>ceo price gouge HIV Drug arrest Securities Fra...</td>\n",
       "    </tr>\n",
       "  </tbody>\n",
       "</table>\n",
       "</div>"
      ],
      "text/plain": [
       "                                                     link  \\\n",
       "181516  https://www.huffingtonpost.com/entry/entrepren...   \n",
       "58552   https://www.huffingtonpost.com/entry/tesla-fas...   \n",
       "155102  https://www.huffingtonpost.com/entry/workers-p...   \n",
       "71725   https://www.huffingtonpost.com/entry/us-tax-ha...   \n",
       "80455   https://www.huffingtonpost.comhttp://www.bloom...   \n",
       "\n",
       "                                                 headline  category  \\\n",
       "181516  Entrepreneurism: Lots of Little Traumas and No...  BUSINESS   \n",
       "58552   Tesla Just Unveiled The Quickest Car You Can A...  BUSINESS   \n",
       "155102  90 Percent Of Employers Tie Workers' Pay To Co...  BUSINESS   \n",
       "71725   One Of Ben Carson's Craziest Ideas Is Coming True  BUSINESS   \n",
       "80455   CEO Who Price Gouged HIV Drug Arrested For Sec...  BUSINESS   \n",
       "\n",
       "                                        short_description  \\\n",
       "181516  I loved my years in corporate America, which I...   \n",
       "58552   A new battery upgrade extends the range of the...   \n",
       "155102  Caterpillar will not break any profit records ...   \n",
       "71725      The U.S. is the world's hottest new tax haven.   \n",
       "80455   A boyish drug company entrepreneur, who rocket...   \n",
       "\n",
       "                                                  authors       date  \\\n",
       "181516  Liz Ryan, Contributor\\nSpeaker, writer, sopran... 2012-11-25   \n",
       "58552                            Alexandria Sage, Reuters 2016-08-23   \n",
       "155102                                   Reuters, Reuters 2013-09-01   \n",
       "71725                                           Ben Walsh 2016-03-26   \n",
       "80455                                                     2015-12-17   \n",
       "\n",
       "        category_num                                   preprocessed_txt  \n",
       "181516             0        entrepreneurism lot Little Traumas Big Ones  \n",
       "58552              0             Tesla unveil Quickest Car actually buy  \n",
       "155102             0  90 percent Employers tie Workers pay company p...  \n",
       "71725              0                Ben Carson Craziest Ideas come true  \n",
       "80455              0  ceo price gouge HIV Drug arrest Securities Fra...  "
      ]
     },
     "execution_count": 34,
     "metadata": {},
     "output_type": "execute_result"
    }
   ],
   "source": [
    "\n",
    "df_balanced.head()"
   ]
  },
  {
   "cell_type": "code",
   "execution_count": 35,
   "id": "375eac4f-e4b5-479a-95c2-6bc41b9fe37a",
   "metadata": {},
   "outputs": [],
   "source": [
    "\n",
    "X_train, X_test, y_train, y_test = train_test_split(\n",
    "    df_balanced.preprocessed_txt, \n",
    "    df_balanced.category_num, \n",
    "    test_size=0.2, # 20% samples will go to test dataset\n",
    "    random_state=2022,\n",
    "    stratify=df_balanced.category_num\n",
    ")"
   ]
  },
  {
   "cell_type": "code",
   "execution_count": 36,
   "id": "998026c1-be94-468e-b25d-ad09a783a513",
   "metadata": {},
   "outputs": [
    {
     "name": "stdout",
     "output_type": "stream",
     "text": [
      "(4419,)\n"
     ]
    },
    {
     "data": {
      "text/plain": [
       "196434    Space Plane x-37b video show Air Force Craft R...\n",
       "178136    Cave dwelling plant strange subterranean Nettl...\n",
       "102479    Hockey Goalie commit Humiliating Gaffe Nationa...\n",
       "37965     Wisconsin Man accuse send Manifesto Trump arre...\n",
       "191964    Derek McGlone teacher try work lie run kill Gi...\n",
       "Name: preprocessed_txt, dtype: object"
      ]
     },
     "execution_count": 36,
     "metadata": {},
     "output_type": "execute_result"
    }
   ],
   "source": [
    "\n",
    "print(X_train.shape)\n",
    "X_train.head()"
   ]
  },
  {
   "cell_type": "code",
   "execution_count": 37,
   "id": "b99dfb82-d6e0-4b3a-b94d-e22bcf9aff88",
   "metadata": {},
   "outputs": [
    {
     "data": {
      "text/plain": [
       "category_num\n",
       "3    1105\n",
       "2    1105\n",
       "0    1105\n",
       "1    1104\n",
       "Name: count, dtype: int64"
      ]
     },
     "execution_count": 37,
     "metadata": {},
     "output_type": "execute_result"
    }
   ],
   "source": [
    "\n",
    "y_train.value_counts()"
   ]
  },
  {
   "cell_type": "code",
   "execution_count": 38,
   "id": "b6d6080a-c5e9-4bce-a11b-f331811c0e6c",
   "metadata": {},
   "outputs": [
    {
     "data": {
      "text/plain": [
       "category_num\n",
       "1    277\n",
       "0    276\n",
       "3    276\n",
       "2    276\n",
       "Name: count, dtype: int64"
      ]
     },
     "execution_count": 38,
     "metadata": {},
     "output_type": "execute_result"
    }
   ],
   "source": [
    "\n",
    "y_test.value_counts()\n",
    "\n"
   ]
  },
  {
   "cell_type": "code",
   "execution_count": 39,
   "id": "5c2929b1-e389-4d6b-b4ba-62be79f91b1c",
   "metadata": {},
   "outputs": [
    {
     "name": "stdout",
     "output_type": "stream",
     "text": [
      "              precision    recall  f1-score   support\n",
      "\n",
      "           0       0.80      0.76      0.78       276\n",
      "           1       0.84      0.82      0.83       277\n",
      "           2       0.81      0.92      0.86       276\n",
      "           3       0.86      0.81      0.84       276\n",
      "\n",
      "    accuracy                           0.83      1105\n",
      "   macro avg       0.83      0.83      0.83      1105\n",
      "weighted avg       0.83      0.83      0.83      1105\n",
      "\n"
     ]
    }
   ],
   "source": [
    "#1. create a pipeline object\n",
    "clf = Pipeline([\n",
    "    ('vectorizer_bow', CountVectorizer(ngram_range = (1, 2))),        #using the ngram_range parameter \n",
    "    ('Multi NB', MultinomialNB())\n",
    "])\n",
    "\n",
    "#2. fit with X_train and y_train\n",
    "clf.fit(X_train, y_train)\n",
    "\n",
    "\n",
    "#3. get the predictions for X_test and store it in y_pred\n",
    "y_pred = clf.predict(X_test)\n",
    "\n",
    "\n",
    "#4. print the classfication report\n",
    "print(classification_report(y_test, y_pred))"
   ]
  },
  {
   "cell_type": "code",
   "execution_count": 40,
   "id": "c1b82579-f6f8-4971-86ba-e2e29a18cbaf",
   "metadata": {},
   "outputs": [
    {
     "data": {
      "text/plain": [
       "array([[210,  22,  22,  22],\n",
       "       [ 17, 228,  21,  11],\n",
       "       [ 12,   8, 253,   3],\n",
       "       [ 25,  12,  15, 224]])"
      ]
     },
     "execution_count": 40,
     "metadata": {},
     "output_type": "execute_result"
    }
   ],
   "source": [
    "from sklearn.metrics import confusion_matrix\n",
    "cm = confusion_matrix(y_test, y_pred)\n",
    "cm"
   ]
  },
  {
   "cell_type": "code",
   "execution_count": 41,
   "id": "255310b9-c5f2-43e4-a901-bd6d49c9f4f2",
   "metadata": {},
   "outputs": [
    {
     "data": {
      "text/plain": [
       "Text(95.72222222222221, 0.5, 'Truth')"
      ]
     },
     "execution_count": 41,
     "metadata": {},
     "output_type": "execute_result"
    },
    {
     "data": {
      "image/png": "[encoded data removed]",
      "text/plain": [
       "<Figure size 1000x700 with 2 Axes>"
      ]
     },
     "metadata": {},
     "output_type": "display_data"
    }
   ],
   "source": [
    "\n",
    "from matplotlib import pyplot as plt\n",
    "import seaborn as sn\n",
    "plt.figure(figsize = (10,7))\n",
    "sn.heatmap(cm, annot=True, fmt='d')\n",
    "plt.xlabel('Prediction')\n",
    "plt.ylabel('Truth')"
   ]
  }
 ],
 "metadata": {
  "kernelspec": {
   "display_name": "Python 3 (ipykernel)",
   "language": "python",
   "name": "python3"
  },
  "language_info": {
   "codemirror_mode": {
    "name": "ipython",
    "version": 3
   },
   "file_extension": ".py",
   "mimetype": "text/x-python",
   "name": "python",
   "nbconvert_exporter": "python",
   "pygments_lexer": "ipython3",
   "version": "3.13.5"
  }
 },
 "nbformat": 4,
 "nbformat_minor": 5
}
