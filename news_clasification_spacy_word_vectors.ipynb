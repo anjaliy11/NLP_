{
 "cells": [
  {
   "cell_type": "markdown",
   "id": "ba218615-8c34-447b-87db-3f2f704fd2c4",
   "metadata": {},
   "source": [
    "Text classification using Spacy Word Vectors"
   ]
  },
  {
   "cell_type": "code",
   "execution_count": 6,
   "id": "18f2d1c3-752a-4fda-b2e8-33c905f603f2",
   "metadata": {},
   "outputs": [
    {
     "data": {
      "text/html": [
       "<div>\n",
       "<style scoped>\n",
       "    .dataframe tbody tr th:only-of-type {\n",
       "        vertical-align: middle;\n",
       "    }\n",
       "\n",
       "    .dataframe tbody tr th {\n",
       "        vertical-align: top;\n",
       "    }\n",
       "\n",
       "    .dataframe thead th {\n",
       "        text-align: right;\n",
       "    }\n",
       "</style>\n",
       "<table border=\"1\" class=\"dataframe\">\n",
       "  <thead>\n",
       "    <tr style=\"text-align: right;\">\n",
       "      <th></th>\n",
       "      <th>text</th>\n",
       "      <th>label</th>\n",
       "    </tr>\n",
       "  </thead>\n",
       "  <tbody>\n",
       "    <tr>\n",
       "      <th>0</th>\n",
       "      <td>Tune in to the Alternate Current Radio Network...</td>\n",
       "      <td>fake</td>\n",
       "    </tr>\n",
       "    <tr>\n",
       "      <th>1</th>\n",
       "      <td>First time voters, Democrats, minorities, wome...</td>\n",
       "      <td>fake</td>\n",
       "    </tr>\n",
       "    <tr>\n",
       "      <th>2</th>\n",
       "      <td>America is experiencing an overwhelming climat...</td>\n",
       "      <td>fake</td>\n",
       "    </tr>\n",
       "    <tr>\n",
       "      <th>3</th>\n",
       "      <td>Tropical Liqueurs, otherwise known as  Trops ,...</td>\n",
       "      <td>fake</td>\n",
       "    </tr>\n",
       "    <tr>\n",
       "      <th>4</th>\n",
       "      <td>Pro-Trump supporters have known the truth for ...</td>\n",
       "      <td>fake</td>\n",
       "    </tr>\n",
       "  </tbody>\n",
       "</table>\n",
       "</div>"
      ],
      "text/plain": [
       "                                                text label\n",
       "0  Tune in to the Alternate Current Radio Network...  fake\n",
       "1  First time voters, Democrats, minorities, wome...  fake\n",
       "2  America is experiencing an overwhelming climat...  fake\n",
       "3  Tropical Liqueurs, otherwise known as  Trops ,...  fake\n",
       "4  Pro-Trump supporters have known the truth for ...  fake"
      ]
     },
     "execution_count": 6,
     "metadata": {},
     "output_type": "execute_result"
    }
   ],
   "source": [
    "import pandas as pd\n",
    "\n",
    "# Load the datasets\n",
    "true_df = pd.read_csv('True.csv')\n",
    "fake_df = pd.read_csv('Fake.csv')\n",
    "\n",
    "# Keep only 'text' column and assign labels\n",
    "true_df_labeled = true_df[['text']].copy()\n",
    "true_df_labeled['label'] = 'real'\n",
    "\n",
    "fake_df_labeled = fake_df[['text']].copy()\n",
    "fake_df_labeled['label'] = 'fake'\n",
    "\n",
    "# Merge both datasets\n",
    "merged_df = pd.concat([true_df_labeled, fake_df_labeled], ignore_index=True)\n",
    "\n",
    "# Optional: Shuffle the data\n",
    "merged_df = merged_df.sample(frac=1).reset_index(drop=True)\n",
    "\n",
    "# Save the merged dataset to a CSV file\n",
    "merged_df.to_csv('merged_news.csv', index=False)\n",
    "df = merged_df\n",
    "df.head()"
   ]
  },
  {
   "cell_type": "code",
   "execution_count": 7,
   "id": "3d62cd9f-4678-458d-b665-ac84b6804300",
   "metadata": {},
   "outputs": [
    {
     "data": {
      "text/plain": [
       "(44898, 2)"
      ]
     },
     "execution_count": 7,
     "metadata": {},
     "output_type": "execute_result"
    }
   ],
   "source": [
    "df.shape"
   ]
  },
  {
   "cell_type": "code",
   "execution_count": 8,
   "id": "73182210-cf51-47fd-833d-578227dca9db",
   "metadata": {},
   "outputs": [
    {
     "data": {
      "text/plain": [
       "label\n",
       "fake    23481\n",
       "real    21417\n",
       "Name: count, dtype: int64"
      ]
     },
     "execution_count": 8,
     "metadata": {},
     "output_type": "execute_result"
    }
   ],
   "source": [
    "df.label.value_counts()"
   ]
  },
  {
   "cell_type": "code",
   "execution_count": 9,
   "id": "be13f45f-f9dc-467f-8829-6195e68cbefb",
   "metadata": {},
   "outputs": [
    {
     "data": {
      "text/html": [
       "<div>\n",
       "<style scoped>\n",
       "    .dataframe tbody tr th:only-of-type {\n",
       "        vertical-align: middle;\n",
       "    }\n",
       "\n",
       "    .dataframe tbody tr th {\n",
       "        vertical-align: top;\n",
       "    }\n",
       "\n",
       "    .dataframe thead th {\n",
       "        text-align: right;\n",
       "    }\n",
       "</style>\n",
       "<table border=\"1\" class=\"dataframe\">\n",
       "  <thead>\n",
       "    <tr style=\"text-align: right;\">\n",
       "      <th></th>\n",
       "      <th>text</th>\n",
       "      <th>label</th>\n",
       "      <th>label_num</th>\n",
       "    </tr>\n",
       "  </thead>\n",
       "  <tbody>\n",
       "    <tr>\n",
       "      <th>0</th>\n",
       "      <td>Tune in to the Alternate Current Radio Network...</td>\n",
       "      <td>fake</td>\n",
       "      <td>0</td>\n",
       "    </tr>\n",
       "    <tr>\n",
       "      <th>1</th>\n",
       "      <td>First time voters, Democrats, minorities, wome...</td>\n",
       "      <td>fake</td>\n",
       "      <td>0</td>\n",
       "    </tr>\n",
       "    <tr>\n",
       "      <th>2</th>\n",
       "      <td>America is experiencing an overwhelming climat...</td>\n",
       "      <td>fake</td>\n",
       "      <td>0</td>\n",
       "    </tr>\n",
       "    <tr>\n",
       "      <th>3</th>\n",
       "      <td>Tropical Liqueurs, otherwise known as  Trops ,...</td>\n",
       "      <td>fake</td>\n",
       "      <td>0</td>\n",
       "    </tr>\n",
       "    <tr>\n",
       "      <th>4</th>\n",
       "      <td>Pro-Trump supporters have known the truth for ...</td>\n",
       "      <td>fake</td>\n",
       "      <td>0</td>\n",
       "    </tr>\n",
       "  </tbody>\n",
       "</table>\n",
       "</div>"
      ],
      "text/plain": [
       "                                                text label  label_num\n",
       "0  Tune in to the Alternate Current Radio Network...  fake          0\n",
       "1  First time voters, Democrats, minorities, wome...  fake          0\n",
       "2  America is experiencing an overwhelming climat...  fake          0\n",
       "3  Tropical Liqueurs, otherwise known as  Trops ,...  fake          0\n",
       "4  Pro-Trump supporters have known the truth for ...  fake          0"
      ]
     },
     "execution_count": 9,
     "metadata": {},
     "output_type": "execute_result"
    }
   ],
   "source": [
    "df['label_num'] = df['label'].map({'fake': 0, 'real': 1})\n",
    "df.head()\n",
    "                       "
   ]
  },
  {
   "cell_type": "code",
   "execution_count": 10,
   "id": "8a928fdc-fd09-417b-8227-aa8b434ad6ba",
   "metadata": {},
   "outputs": [],
   "source": [
    "import spacy\n",
    "nlp = spacy.load(\"en_core_web_lg\")"
   ]
  },
  {
   "cell_type": "code",
   "execution_count": null,
   "id": "390004c7-713d-4128-8295-0159cff850af",
   "metadata": {},
   "outputs": [],
   "source": [
    "  df['vector'] = df['text'].apply(lambda text:nlp(text).vector)"
   ]
  },
  {
   "cell_type": "code",
   "execution_count": null,
   "id": "072c97a9-4db4-4dcc-8645-34e97fa5f26e",
   "metadata": {},
   "outputs": [],
   "source": [
    "df.head()"
   ]
  },
  {
   "cell_type": "code",
   "execution_count": null,
   "id": "3658939a-3331-4a7c-ab3e-dfcbb1cee290",
   "metadata": {},
   "outputs": [],
   "source": [
    "from sklearn.model_selection import train_test_split\n",
    "train_test_split(\n",
    "    df.vector,\n",
    "    df.label_num,\n",
    "    test_size = 0.2,\n",
    "    random_state=2011\n",
    ")"
   ]
  },
  {
   "cell_type": "code",
   "execution_count": null,
   "id": "b147631c-37ef-4ded-8e05-ed610c58d5cc",
   "metadata": {},
   "outputs": [],
   "source": [
    "X_train.shape"
   ]
  },
  {
   "cell_type": "code",
   "execution_count": null,
   "id": "0a3dc32b-026b-404c-b575-55ce4a59e235",
   "metadata": {},
   "outputs": [],
   "source": [
    "import numpy as np\n",
    "\n",
    "X_train_2d = np.stack(X_train)\n",
    "X_test_2d = np.stack(X_test)"
   ]
  },
  {
   "cell_type": "code",
   "execution_count": null,
   "id": "a7782938-f5a6-48cc-a991-9c13183893ec",
   "metadata": {},
   "outputs": [],
   "source": [
    "from sklearn.naive_bayes import MultinomialNB\n",
    "from sklearn.preprocessing import MinMaxScaler\n",
    "\n",
    "scaler = MinMaxScaler()\n",
    "scaled_train_embed = scaler.fit_transform(X_train_2d)\n",
    "scaled_test_embed = scaler.transform(X_test_2d)\n",
    "\n",
    "clf = MultinomialNB()\n",
    "clf.fit(scaled_train_embed, y_train)"
   ]
  },
  {
   "cell_type": "code",
   "execution_count": null,
   "id": "ad652f6d-51c2-49fd-a50b-aea727c3cf37",
   "metadata": {},
   "outputs": [],
   "source": [
    "y_pred = clf.predict(scaled_test_embed)\n",
    "\n",
    "print(classification_report(y_test, y_pred))"
   ]
  },
  {
   "cell_type": "code",
   "execution_count": null,
   "id": "1aafa8b2-8e2f-4737-b117-05f1bfdee63c",
   "metadata": {},
   "outputs": [],
   "source": [
    "from sklearn.neighbors import KNeighborsClassifier\n",
    "\n",
    "clf = KNeighborsClassifier(n_neighbors=5, metric='euclidean')\n",
    "clf.fit(X_train_2d, y_train)\n",
    "\n",
    "y_pred = clf.predict(X_test_2d)\n",
    "\n",
    "print(classification_report(y_test, y_pred))"
   ]
  },
  {
   "cell_type": "markdown",
   "id": "dda3f3d3-7325-4c98-8c22-3c533b7d597c",
   "metadata": {},
   "source": [
    "Word Vectors using Gensim"
   ]
  },
  {
   "cell_type": "code",
   "execution_count": null,
   "id": "8fbbcbf7-2dd5-401e-a0e5-fe07f93868e6",
   "metadata": {},
   "outputs": [],
   "source": [
    "import gensim.downloader as api\n",
    "\n",
    "wv = api.load(\"word2vec-google-news-300\")"
   ]
  },
  {
   "cell_type": "code",
   "execution_count": null,
   "id": "d05d6a04-4fc3-4a37-aa35-e536289e3130",
   "metadata": {},
   "outputs": [],
   "source": [
    "wv.similarity(w1='great',w2 = 'well')"
   ]
  },
  {
   "cell_type": "code",
   "execution_count": null,
   "id": "de887a5c-97bf-4ea9-9ae6-92bc32165b72",
   "metadata": {},
   "outputs": [],
   "source": [
    "wv.most_similar(\"dog\")"
   ]
  },
  {
   "cell_type": "code",
   "execution_count": null,
   "id": "154a40b4-4a5d-4a85-a6ee-afbfb99820b5",
   "metadata": {},
   "outputs": [],
   "source": [
    "King - man + woman = Queen"
   ]
  },
  {
   "cell_type": "code",
   "execution_count": null,
   "id": "fa6aa2bc-37f1-4995-b85e-a0eb9fc1fc94",
   "metadata": {},
   "outputs": [],
   "source": [
    "wv.most_similar(positive=[\"King\", \"woman\"], negative=[\"man\"])"
   ]
  },
  {
   "cell_type": "code",
   "execution_count": null,
   "id": "97f88aa5-bd12-4160-a7de-5bd986370c31",
   "metadata": {},
   "outputs": [],
   "source": [
    "wv.doesnt_match([\"facebook\",\"cat\",\"google\", \"microsoft\"])"
   ]
  },
  {
   "cell_type": "code",
   "execution_count": null,
   "id": "99a81461-1c44-4cb0-b836-2da52f75d804",
   "metadata": {},
   "outputs": [],
   "source": [
    "glv = api.load(\"glove-twitter-25\")"
   ]
  },
  {
   "cell_type": "code",
   "execution_count": null,
   "id": "cf0f6348-6e7c-41c8-873e-98f5be417219",
   "metadata": {},
   "outputs": [],
   "source": [
    "glv.most_similar(\"good\")"
   ]
  }
 ],
 "metadata": {
  "kernelspec": {
   "display_name": "Python 3 (ipykernel)",
   "language": "python",
   "name": "python3"
  },
  "language_info": {
   "codemirror_mode": {
    "name": "ipython",
    "version": 3
   },
   "file_extension": ".py",
   "mimetype": "text/x-python",
   "name": "python",
   "nbconvert_exporter": "python",
   "pygments_lexer": "ipython3",
   "version": "3.13.5"
  }
 },
 "nbformat": 4,
 "nbformat_minor": 5
}
