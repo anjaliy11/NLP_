{
 "cells": [
  {
   "cell_type": "code",
   "execution_count": 1,
   "id": "a00d5fd7-63d7-4e0c-a1f1-255c722855d1",
   "metadata": {},
   "outputs": [],
   "source": [
    "import spacy"
   ]
  },
  {
   "cell_type": "code",
   "execution_count": 11,
   "id": "025c38aa-fbf3-47f4-b705-ba672df506d6",
   "metadata": {},
   "outputs": [
    {
     "name": "stdout",
     "output_type": "stream",
     "text": [
      "\"\n",
      "Let\n",
      "'s\n",
      " \n",
      "2\n",
      "0f\n",
      "us\n",
      "go\n",
      "to\n",
      "N.Y\n",
      "..\n",
      "!\n",
      ".\n",
      "\"\n"
     ]
    }
   ],
   "source": [
    "nlp = spacy.blank(\"en\")\n",
    "\n",
    "doc = nlp('''\"Let's  2 0f us go to N.Y..!.\"''')\n",
    "\n",
    "for token in doc:\n",
    "    print(token)"
   ]
  },
  {
   "cell_type": "code",
   "execution_count": 12,
   "id": "d087983d-b576-468c-bd9f-3e65ec4eeca1",
   "metadata": {},
   "outputs": [
    {
     "data": {
      "text/plain": [
       "Let's  2"
      ]
     },
     "execution_count": 12,
     "metadata": {},
     "output_type": "execute_result"
    }
   ],
   "source": [
    "doc[1:5]"
   ]
  },
  {
   "cell_type": "code",
   "execution_count": 5,
   "id": "110ee52e-f2b0-4e83-83dd-a3c8ce7c80d1",
   "metadata": {},
   "outputs": [
    {
     "data": {
      "text/plain": [
       "spacy.tokens.doc.Doc"
      ]
     },
     "execution_count": 5,
     "metadata": {},
     "output_type": "execute_result"
    }
   ],
   "source": [
    "type(doc)"
   ]
  },
  {
   "cell_type": "code",
   "execution_count": 7,
   "id": "89e87443-81e0-45f9-99b7-fbbc17396936",
   "metadata": {},
   "outputs": [
    {
     "data": {
      "text/plain": [
       "Let"
      ]
     },
     "execution_count": 7,
     "metadata": {},
     "output_type": "execute_result"
    }
   ],
   "source": [
    "token1 = doc[1]\n",
    "token1"
   ]
  },
  {
   "cell_type": "code",
   "execution_count": 8,
   "id": "889bda25-c623-4088-8fab-c8f51b0b027e",
   "metadata": {},
   "outputs": [
    {
     "data": {
      "text/plain": [
       "spacy.tokens.token.Token"
      ]
     },
     "execution_count": 8,
     "metadata": {},
     "output_type": "execute_result"
    }
   ],
   "source": [
    "type(token1)"
   ]
  },
  {
   "cell_type": "code",
   "execution_count": 9,
   "id": "08410626-0f7a-4cdc-a82a-bc130510d891",
   "metadata": {},
   "outputs": [
    {
     "data": {
      "text/plain": [
       "['_',\n",
       " '__bytes__',\n",
       " '__class__',\n",
       " '__delattr__',\n",
       " '__dir__',\n",
       " '__doc__',\n",
       " '__eq__',\n",
       " '__format__',\n",
       " '__ge__',\n",
       " '__getattribute__',\n",
       " '__getstate__',\n",
       " '__gt__',\n",
       " '__hash__',\n",
       " '__init__',\n",
       " '__init_subclass__',\n",
       " '__le__',\n",
       " '__len__',\n",
       " '__lt__',\n",
       " '__ne__',\n",
       " '__new__',\n",
       " '__pyx_vtable__',\n",
       " '__reduce__',\n",
       " '__reduce_ex__',\n",
       " '__repr__',\n",
       " '__setattr__',\n",
       " '__sizeof__',\n",
       " '__str__',\n",
       " '__subclasshook__',\n",
       " '__unicode__',\n",
       " 'ancestors',\n",
       " 'check_flag',\n",
       " 'children',\n",
       " 'cluster',\n",
       " 'conjuncts',\n",
       " 'dep',\n",
       " 'dep_',\n",
       " 'doc',\n",
       " 'ent_id',\n",
       " 'ent_id_',\n",
       " 'ent_iob',\n",
       " 'ent_iob_',\n",
       " 'ent_kb_id',\n",
       " 'ent_kb_id_',\n",
       " 'ent_type',\n",
       " 'ent_type_',\n",
       " 'get_extension',\n",
       " 'has_dep',\n",
       " 'has_extension',\n",
       " 'has_head',\n",
       " 'has_morph',\n",
       " 'has_vector',\n",
       " 'head',\n",
       " 'i',\n",
       " 'idx',\n",
       " 'iob_strings',\n",
       " 'is_alpha',\n",
       " 'is_ancestor',\n",
       " 'is_ascii',\n",
       " 'is_bracket',\n",
       " 'is_currency',\n",
       " 'is_digit',\n",
       " 'is_left_punct',\n",
       " 'is_lower',\n",
       " 'is_oov',\n",
       " 'is_punct',\n",
       " 'is_quote',\n",
       " 'is_right_punct',\n",
       " 'is_sent_end',\n",
       " 'is_sent_start',\n",
       " 'is_space',\n",
       " 'is_stop',\n",
       " 'is_title',\n",
       " 'is_upper',\n",
       " 'lang',\n",
       " 'lang_',\n",
       " 'left_edge',\n",
       " 'lefts',\n",
       " 'lemma',\n",
       " 'lemma_',\n",
       " 'lex',\n",
       " 'lex_id',\n",
       " 'like_email',\n",
       " 'like_num',\n",
       " 'like_url',\n",
       " 'lower',\n",
       " 'lower_',\n",
       " 'morph',\n",
       " 'n_lefts',\n",
       " 'n_rights',\n",
       " 'nbor',\n",
       " 'norm',\n",
       " 'norm_',\n",
       " 'orth',\n",
       " 'orth_',\n",
       " 'pos',\n",
       " 'pos_',\n",
       " 'prefix',\n",
       " 'prefix_',\n",
       " 'prob',\n",
       " 'rank',\n",
       " 'remove_extension',\n",
       " 'right_edge',\n",
       " 'rights',\n",
       " 'sent',\n",
       " 'sent_start',\n",
       " 'sentiment',\n",
       " 'set_extension',\n",
       " 'set_morph',\n",
       " 'shape',\n",
       " 'shape_',\n",
       " 'similarity',\n",
       " 'subtree',\n",
       " 'suffix',\n",
       " 'suffix_',\n",
       " 'tag',\n",
       " 'tag_',\n",
       " 'tensor',\n",
       " 'text',\n",
       " 'text_with_ws',\n",
       " 'vector',\n",
       " 'vector_norm',\n",
       " 'vocab',\n",
       " 'whitespace_']"
      ]
     },
     "execution_count": 9,
     "metadata": {},
     "output_type": "execute_result"
    }
   ],
   "source": [
    "dir(token1)"
   ]
  },
  {
   "cell_type": "code",
   "execution_count": 10,
   "id": "b71cea57-7574-46d8-a0ec-7429ba9e74db",
   "metadata": {},
   "outputs": [
    {
     "data": {
      "text/plain": [
       "False"
      ]
     },
     "execution_count": 10,
     "metadata": {},
     "output_type": "execute_result"
    }
   ],
   "source": [
    "token1.like_num"
   ]
  },
  {
   "cell_type": "code",
   "execution_count": 16,
   "id": "a28f2580-9652-452b-9979-32a792d42a46",
   "metadata": {},
   "outputs": [
    {
     "data": {
      "text/plain": [
       "2"
      ]
     },
     "execution_count": 16,
     "metadata": {},
     "output_type": "execute_result"
    }
   ],
   "source": [
    "token4 = doc[4]\n",
    "token4"
   ]
  },
  {
   "cell_type": "code",
   "execution_count": 17,
   "id": "b6fe6865-ea21-413e-b5d8-fe218b291e8a",
   "metadata": {},
   "outputs": [
    {
     "data": {
      "text/plain": [
       "True"
      ]
     },
     "execution_count": 17,
     "metadata": {},
     "output_type": "execute_result"
    }
   ],
   "source": [
    "token4.like_num"
   ]
  },
  {
   "cell_type": "code",
   "execution_count": 18,
   "id": "017c3cd4-3433-4a50-a581-11d6a4c7eccd",
   "metadata": {},
   "outputs": [
    {
     "data": {
      "text/plain": [
       "False"
      ]
     },
     "execution_count": 18,
     "metadata": {},
     "output_type": "execute_result"
    }
   ],
   "source": [
    "token4.is_currency"
   ]
  },
  {
   "cell_type": "code",
   "execution_count": 19,
   "id": "8ed6eb4b-63f7-4bef-804c-84c658cf7a7a",
   "metadata": {},
   "outputs": [
    {
     "name": "stdout",
     "output_type": "stream",
     "text": [
      "\" ==> index:  0 is_alpha: False is_punct: True like_num: False is_currency: False\n",
      "Let ==> index:  1 is_alpha: True is_punct: False like_num: False is_currency: False\n",
      "'s ==> index:  2 is_alpha: False is_punct: False like_num: False is_currency: False\n",
      "  ==> index:  3 is_alpha: False is_punct: False like_num: False is_currency: False\n",
      "2 ==> index:  4 is_alpha: False is_punct: False like_num: True is_currency: False\n",
      "0f ==> index:  5 is_alpha: False is_punct: False like_num: False is_currency: False\n",
      "us ==> index:  6 is_alpha: True is_punct: False like_num: False is_currency: False\n",
      "go ==> index:  7 is_alpha: True is_punct: False like_num: False is_currency: False\n",
      "to ==> index:  8 is_alpha: True is_punct: False like_num: False is_currency: False\n",
      "N.Y ==> index:  9 is_alpha: False is_punct: False like_num: False is_currency: False\n",
      ".. ==> index:  10 is_alpha: False is_punct: True like_num: False is_currency: False\n",
      "! ==> index:  11 is_alpha: False is_punct: True like_num: False is_currency: False\n",
      ". ==> index:  12 is_alpha: False is_punct: True like_num: False is_currency: False\n",
      "\" ==> index:  13 is_alpha: False is_punct: True like_num: False is_currency: False\n"
     ]
    }
   ],
   "source": [
    "for token in doc:\n",
    "    print(token, \"==>\", \"index: \", token.i,\n",
    "          \"is_alpha:\", token.is_alpha,\n",
    "          \"is_punct:\", token.is_punct,\n",
    "          \"like_num:\", token.like_num,\n",
    "          \"is_currency:\", token.is_currency,\n",
    "         )"
   ]
  },
  {
   "cell_type": "code",
   "execution_count": null,
   "id": "f543c58b-50d8-4a91-9e01-37701a470c14",
   "metadata": {},
   "outputs": [],
   "source": [
    "# text = ' '.join(text)\n",
    "# text---> will join every line in doc"
   ]
  },
  {
   "cell_type": "code",
   "execution_count": 21,
   "id": "6a0dc17c-b4e8-43ce-8865-d63f1846482b",
   "metadata": {},
   "outputs": [],
   "source": [
    "# doc = nlp(text)\n",
    "# emails = []\n",
    "# for token in doc:\n",
    "#     if token.like_email:\n",
    "#         emails.append(token.text)\n",
    "# emails     ---->    "
   ]
  },
  {
   "cell_type": "code",
   "execution_count": 22,
   "id": "b5aa8614-895d-40ef-9e1d-0a0a90a65c92",
   "metadata": {},
   "outputs": [
    {
     "name": "stdout",
     "output_type": "stream",
     "text": [
      "मैं False False\n",
      "आज False False\n",
      "स्कूल False False\n",
      "जा False False\n",
      "रहा False False\n",
      "हूँ False False\n",
      "। False False\n"
     ]
    }
   ],
   "source": [
    "nlp = spacy.blank(\"hi\")\n",
    "\n",
    "doc = nlp(\"मैं आज स्कूल जा रहा हूँ।\")\n",
    "for token in doc:\n",
    "    print(token, token.is_currency, token.like_num)\n"
   ]
  },
  {
   "cell_type": "code",
   "execution_count": 24,
   "id": "c1d4882a-9052-4e56-8efe-ae412ef4ef99",
   "metadata": {},
   "outputs": [
    {
     "data": {
      "text/plain": [
       "['gimme', 'double', 'cheese', 'extra', 'large', 'healthy', 'pizza']"
      ]
     },
     "execution_count": 24,
     "metadata": {},
     "output_type": "execute_result"
    }
   ],
   "source": [
    "# customize tokenizer\n",
    "\n",
    "doc = nlp(\"gimme double cheese extra large healthy pizza\")\n",
    "\n",
    "tokens = [token.text for token in doc]\n",
    "tokens"
   ]
  },
  {
   "cell_type": "code",
   "execution_count": 26,
   "id": "cc74e565-36a1-4377-9422-3f09108c1bb0",
   "metadata": {},
   "outputs": [
    {
     "data": {
      "text/plain": [
       "['gim', 'me', 'double', 'cheese', 'extra', 'large', 'healthy', 'pizza']"
      ]
     },
     "execution_count": 26,
     "metadata": {},
     "output_type": "execute_result"
    }
   ],
   "source": [
    "from spacy.symbols import ORTH\n",
    "\n",
    "nlp.tokenizer.add_special_case(\"gimme\",[\n",
    "    {ORTH: \"gim\"},\n",
    "    {ORTH: \"me\"}\n",
    "])\n",
    "# cant modify word simply but split\n",
    "doc = nlp(\"gimme double cheese extra large healthy pizza\")\n",
    "tokens = [token.text for token in doc]\n",
    "tokens"
   ]
  },
  {
   "cell_type": "code",
   "execution_count": 31,
   "id": "ef46c726-b804-4cf1-bc5f-fa2dd65a61e2",
   "metadata": {},
   "outputs": [
    {
     "name": "stdout",
     "output_type": "stream",
     "text": [
      "Dr.\n",
      "Strange loves pav bhaji .\n",
      "Hulk loves chat of Delhi.\n"
     ]
    }
   ],
   "source": [
    "# sentence tokenization\n",
    "doc = nlp(\"Dr. Strange loves pav bhaji . Hulk loves chat of Delhi.\")\n",
    "\n",
    "for sentence in doc.sents:\n",
    "    print(sentence)"
   ]
  },
  {
   "cell_type": "code",
   "execution_count": 29,
   "id": "b7824700-9cd9-4d02-995e-c8ab2be38dbc",
   "metadata": {},
   "outputs": [
    {
     "data": {
      "text/plain": [
       "<spacy.pipeline.sentencizer.Sentencizer at 0x2aab6b7f710>"
      ]
     },
     "execution_count": 29,
     "metadata": {},
     "output_type": "execute_result"
    }
   ],
   "source": [
    "nlp.add_pipe('sentencizer')"
   ]
  },
  {
   "cell_type": "code",
   "execution_count": 30,
   "id": "66dde427-1f6c-473f-a3cc-c65ab481ec3d",
   "metadata": {},
   "outputs": [
    {
     "data": {
      "text/plain": [
       "['sentencizer']"
      ]
     },
     "execution_count": 30,
     "metadata": {},
     "output_type": "execute_result"
    }
   ],
   "source": [
    "nlp.pipe_names"
   ]
  },
  {
   "cell_type": "code",
   "execution_count": null,
   "id": "1a34518d-fe1a-4f75-b864-f0781b0d6196",
   "metadata": {},
   "outputs": [],
   "source": []
  },
  {
   "cell_type": "code",
   "execution_count": null,
   "id": "fbde53d6-3892-439c-a960-37b4badc0b88",
   "metadata": {},
   "outputs": [],
   "source": []
  }
 ],
 "metadata": {
  "kernelspec": {
   "display_name": "Python 3 (ipykernel)",
   "language": "python",
   "name": "python3"
  },
  "language_info": {
   "codemirror_mode": {
    "name": "ipython",
    "version": 3
   },
   "file_extension": ".py",
   "mimetype": "text/x-python",
   "name": "python",
   "nbconvert_exporter": "python",
   "pygments_lexer": "ipython3",
   "version": "3.13.5"
  }
 },
 "nbformat": 4,
 "nbformat_minor": 5
}
